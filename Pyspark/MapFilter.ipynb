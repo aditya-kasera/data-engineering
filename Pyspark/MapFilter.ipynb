{
 "cells": [
  {
   "cell_type": "code",
   "execution_count": 1,
   "metadata": {},
   "outputs": [],
   "source": [
    "from pyspark.sql import SparkSession\n",
    "\n",
    "# Initialize SparkSession\n",
    "spark = SparkSession.builder \\\n",
    "    .appName(\"DataFrameMapFilterExample\") \\\n",
    "    .getOrCreate()\n"
   ]
  },
  {
   "cell_type": "code",
   "execution_count": 2,
   "metadata": {},
   "outputs": [
    {
     "data": {
      "text/html": [
       "\n",
       "            <div>\n",
       "                <p><b>SparkSession - in-memory</b></p>\n",
       "                \n",
       "        <div>\n",
       "            <p><b>SparkContext</b></p>\n",
       "\n",
       "            <p><a href=\"http://host.docker.internal:4041\">Spark UI</a></p>\n",
       "\n",
       "            <dl>\n",
       "              <dt>Version</dt>\n",
       "                <dd><code>v3.5.1</code></dd>\n",
       "              <dt>Master</dt>\n",
       "                <dd><code>local[*]</code></dd>\n",
       "              <dt>AppName</dt>\n",
       "                <dd><code>DataFrameMapFilterExample</code></dd>\n",
       "            </dl>\n",
       "        </div>\n",
       "        \n",
       "            </div>\n",
       "        "
      ],
      "text/plain": [
       "<pyspark.sql.session.SparkSession at 0x2199011bec0>"
      ]
     },
     "execution_count": 2,
     "metadata": {},
     "output_type": "execute_result"
    }
   ],
   "source": [
    "spark"
   ]
  },
  {
   "cell_type": "code",
   "execution_count": 7,
   "metadata": {},
   "outputs": [
    {
     "name": "stdout",
     "output_type": "stream",
     "text": [
      "+-------+---+------+----------+----------+\n",
      "|   Name|Age|Salary|Department|Experience|\n",
      "+-------+---+------+----------+----------+\n",
      "|  Pawan| 26| 50000| Furniture|       4.0|\n",
      "|Chandar| 55| 70000| Furniture|      20.0|\n",
      "| Sanjay| 22| 35000|Operations|       1.0|\n",
      "|  Anand| 25| 20000| Furniture|       1.0|\n",
      "+-------+---+------+----------+----------+\n",
      "\n"
     ]
    }
   ],
   "source": [
    "df = spark.read.csv(header=True, path='BasicDataframe.csv', inferSchema=True)\n",
    "df.show()"
   ]
  },
  {
   "cell_type": "code",
   "execution_count": 8,
   "metadata": {},
   "outputs": [
    {
     "name": "stdout",
     "output_type": "stream",
     "text": [
      "+-------+---+------+----------+----------+\n",
      "|   Name|Age|Salary|Department|Experience|\n",
      "+-------+---+------+----------+----------+\n",
      "|  Pawan| 26|100000| Furniture|       4.0|\n",
      "|Chandar| 55|140000| Furniture|      20.0|\n",
      "| Sanjay| 22| 70000|Operations|       1.0|\n",
      "|  Anand| 25| 40000| Furniture|       1.0|\n",
      "+-------+---+------+----------+----------+\n",
      "\n"
     ]
    }
   ],
   "source": [
    "# Map operation: adding 1 to age\n",
    "mapped_df = df.withColumn(\"Salary\", df[\"Salary\"] * 2)\n",
    "mapped_df.show()\n"
   ]
  },
  {
   "cell_type": "code",
   "execution_count": 9,
   "metadata": {},
   "outputs": [
    {
     "name": "stdout",
     "output_type": "stream",
     "text": [
      "+-------+---+------+----------+----------+\n",
      "|   Name|Age|Salary|Department|Experience|\n",
      "+-------+---+------+----------+----------+\n",
      "|Chandar| 55| 70000| Furniture|      20.0|\n",
      "+-------+---+------+----------+----------+\n",
      "\n"
     ]
    }
   ],
   "source": [
    "# Map operation: adding 1 to age\n",
    "filtered_df = df.filter(df[\"Salary\"] >60000)\n",
    "filtered_df.show()"
   ]
  }
 ],
 "metadata": {
  "kernelspec": {
   "display_name": "Python 3",
   "language": "python",
   "name": "python3"
  },
  "language_info": {
   "codemirror_mode": {
    "name": "ipython",
    "version": 3
   },
   "file_extension": ".py",
   "mimetype": "text/x-python",
   "name": "python",
   "nbconvert_exporter": "python",
   "pygments_lexer": "ipython3",
   "version": "3.12.2"
  }
 },
 "nbformat": 4,
 "nbformat_minor": 2
}
